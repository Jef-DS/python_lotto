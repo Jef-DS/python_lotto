{
 "cells": [
  {
   "cell_type": "markdown",
   "metadata": {},
   "source": [
    "# Lottodata lezen om de (eventuele) winst te berekenen\n",
    "\n",
    "Ik speel Lotto sinds 2016 en ik wil wel eens weten hoeveel geld ik daarmee verdiend heb (of, misschien, verloren heb)\n",
    "\n",
    "## Stap1: Gegevens over de trekkingen downloaden\n",
    "\n",
    "Door te zoeken naar \"Lotto statistieken\" kom ik uit op de pagina https://www.nationale-loterij.be/onze-spelen/lotto/uitslagen-trekking/statistieken . Hier kan ik de trekkingsresultaten(gamedata) en de financiële resultaten(financialdata) downloaden per jaar. Maar ik wil dit niet manueel doen. Daarom gebruik ik de *requests*-module van Python.\n",
    "\n",
    "De data die ik download zijn *bytes*. Daarom schrijf ik de bestanden weg met 'wb' (write binary')"
   ]
  },
  {
   "cell_type": "code",
   "execution_count": 6,
   "metadata": {},
   "outputs": [],
   "source": [
    "import requests\n",
    "\n",
    "url = \"https://prdlnboppreportsst.blob.core.windows.net/legal-reports/\"\n",
    "\n",
    "for jaartal in range(2016, 2025):                                  #van 2016 tot en met 2024\n",
    "    gamedata_naam = f\"lotto-gamedata-NL-{jaartal}.csv\"\n",
    "    financialdata_naam = f\"lotto-financialdata-NL-{jaartal}.csv\"\n",
    "\n",
    "    gamedata = requests.get(url + gamedata_naam)\n",
    "    \n",
    "    with open('./data/' + gamedata_naam, \"wb\") as f:               #gamedata.content zijn bytes (met Byte Order Mark UTF-8)\n",
    "        f.write(gamedata.content)\n",
    "\n",
    "    financialdata = requests.get(url + financialdata_naam)\n",
    "\n",
    "    with open('./data/' + financialdata_naam, \"wb\") as f:\n",
    "        f.write(financialdata.content)\n",
    "\n",
    "\n"
   ]
  },
  {
   "cell_type": "markdown",
   "metadata": {},
   "source": [
    "## Stap 2: data lezen en bewaren in een numpy array\n",
    "In tegenstelling tot bij de dataframes van Pandas, moet een numpy-array data van hetzelfde type bevatten. Dat beperkt de informatie die we kunnen bewaren. Maar eerst moeten we eens kijken hoe de structuur van de twee soorten bestanden eruit ziet. \n",
    "\n",
    "### De structuur van gamedata\n",
    "\n",
    "Ik gebruik numpy.genfromtxt() om eens te kijken of ik het gamedata-bestand kan lezen. De eerste rij bevat de kolomnamen (skip_header=1). De eerste kolom kan ik ook niet gebruiken omdat die de datums bevat (usecols=range(1, 8))\n",
    "\n",
    "Omdat de lottonummers altijd positief zijn bewaren we de gegevens als unsigned integers (dtype=np.uint8)\n",
    "\n",
    "Wanneer ik de eerste drie rijen afdruk, ziet dat er goed uit."
   ]
  },
  {
   "cell_type": "code",
   "execution_count": 1,
   "metadata": {},
   "outputs": [
    {
     "data": {
      "text/plain": [
       "array([[ 2,  3, 19, 40, 42, 43,  4],\n",
       "       [21, 24, 30, 32, 39, 40,  2],\n",
       "       [ 7, 11, 22, 26, 29, 42, 12]], dtype=uint8)"
      ]
     },
     "execution_count": 1,
     "metadata": {},
     "output_type": "execute_result"
    }
   ],
   "source": [
    "import numpy as np\n",
    "\n",
    "jaartal = 2024\n",
    "gamedata_naam = f\"./data/lotto-gamedata-NL-{jaartal}.csv\"\n",
    "\n",
    "gamedata = np.genfromtxt(gamedata_naam, dtype=np.uint8, delimiter=\";\", skip_header=1, usecols=range(1, 8))\n",
    "gamedata[:3]\n",
    "\n"
   ]
  },
  {
   "cell_type": "markdown",
   "metadata": {},
   "source": [
    "### De structuur van financialdata\n",
    "\n",
    "Financialdata is wat ingewikkelder:\n",
    "- ik ben alleen geïnteresseerd in de winstbedragen voor de verschillende rangen (W-Rx): usecols=range(4, 22, 2)\n",
    "- de bedragen hebben als decimaalteken een komma in plaats van een punt\n",
    "- daarom heb ik converters nodig (naar_float)\n",
    "- om ervoor te zorgen dat de *naar_float()*-functie een string binnenkrijgt en geen bytes, moet ik ook een encoding meegeven."
   ]
  },
  {
   "cell_type": "code",
   "execution_count": 2,
   "metadata": {},
   "outputs": [],
   "source": [
    "def naar_float(tekst:str) ->float:\n",
    "    return float(tekst.replace(',', '.'))\n",
    "\n",
    "converters = { i: naar_float for i in range(4, 22, 2)}\n",
    "\n",
    "jaartal = 2024\n",
    "financialdata_naam = f\"./data/lotto-financialdata-NL-{jaartal}.csv\"\n",
    "\n",
    "financialdata = np.genfromtxt(financialdata_naam, delimiter=\";\", skip_header=1, \n",
    "                              usecols=range(4, 22, 2), converters=converters, encoding='utf-8')\n"
   ]
  },
  {
   "cell_type": "markdown",
   "metadata": {},
   "source": [
    "### Gamedata en Financialdata lezen\n",
    "\n",
    "Met de glob-module van Python kan ik alle bestandsnamen opvragen die een bepaalde vorm hebben. Om de bestanden van de verschillende jaren in te lezen, voorzie ik een gewone Python list (gamedata_list/financialdata_list). Elke numpy-array wordt een item in die arrays. Tenslotte gebruik ik np.concatenate() om de arrays in de list samen te voegen."
   ]
  },
  {
   "cell_type": "code",
   "execution_count": 1,
   "metadata": {},
   "outputs": [],
   "source": [
    "import glob\n",
    "import numpy as np\n",
    "\n",
    "def naar_float(tekst:str) ->float:\n",
    "    return float(tekst.replace(',', '.'))\n",
    "\n",
    "converters = { i: naar_float for i in range(4, 22, 2)}\n",
    "gamedata_bestanden = glob.glob(\"./data/lotto-gamedata-NL-*.csv\")\n",
    "\n",
    "\n",
    "gamedata_list = []\n",
    "for gamedata_bestand in gamedata_bestanden:\n",
    "    arr = np.genfromtxt(gamedata_bestand, dtype=np.uint8, delimiter=\";\", skip_header=1, usecols=range(1, 8))\n",
    "    gamedata_list.append(arr)\n",
    "\n",
    "gamedata = np.concatenate(gamedata_list)\n",
    "\n",
    "\n",
    "financialdata_bestanden = glob.glob(\"./data/lotto-financialdata-NL-*.csv\")\n",
    "\n",
    "financialdata_list = []\n",
    "for financialdata_bestand in financialdata_bestanden:\n",
    "    arr = np.genfromtxt(financialdata_bestand, delimiter=\";\", skip_header=1, \n",
    "                        usecols=range(4, 22, 2), converters=converters, encoding='utf-8')\n",
    "    financialdata_list.append(arr)\n",
    "\n",
    "financialdata = np.concatenate(financialdata_list)\n"
   ]
  },
  {
   "cell_type": "markdown",
   "metadata": {},
   "source": [
    "# Stap 3: de winst berekenen\n",
    "## De winstrang bepalen\n",
    "\n",
    "De functie bepaal_rang() in lotto_utils.py verwacht drie argumenten:\n",
    "- een array met de 6 lottogetallen\n",
    "- het bonus nummer\n",
    "- een array met de 6 gespeelde getallen (mijn_nummers)\n",
    "\n",
    "Om die functie te kunnen gebruiken voorzie ik een hulpfunctie: *controleer_cijfers()*. De bedoeling van die functie is om de rij van gamedata uit te splitsen in de 6 lottogetallen en het bonusgetal. \n",
    "\n",
    "np.apply_along_axis krijgt de volgende argumenten:\n",
    "- de functie die moet toegepast worden op elke rij\n",
    "- de as waarlangs de functie moet worden uitgevoerd (langs de kolommen)\n",
    "- de array waarop de functie moet worden toegepast\n",
    "- het extra argument dat we (buiten de rij) doorgeven aan de functie"
   ]
  },
  {
   "cell_type": "code",
   "execution_count": 2,
   "metadata": {},
   "outputs": [
    {
     "name": "stdout",
     "output_type": "stream",
     "text": [
      "class:  ndarray\n",
      "shape:  (860,)\n",
      "strides:  (8,)\n",
      "itemsize:  8\n",
      "aligned:  True\n",
      "contiguous:  True\n",
      "fortran:  True\n",
      "data pointer: 0x27220c23df0\n",
      "byteorder:  little\n",
      "byteswap:  False\n",
      "type: object\n"
     ]
    }
   ],
   "source": [
    "from lotto_utils import bepaal_rang\n",
    "\n",
    "def controleer_cijfers(rij, speel_nummers):\n",
    "    lotto_nummers = rij[:6]\n",
    "    bonusnummer = rij[6]\n",
    "    rang = bepaal_rang(lotto_nummers, bonusnummer, speel_nummers)\n",
    "    return rang\n",
    "\n",
    "mijn_nummers = np.array([3, 9, 10, 15, 19, 452])\n",
    "\n",
    "resultaat_rang = np.apply_along_axis(controleer_cijfers, 1, gamedata, mijn_nummers)\n",
    "np.info(resultaat_rang)\n",
    "\n"
   ]
  },
  {
   "cell_type": "markdown",
   "metadata": {},
   "source": [
    "## De winstbedragen bepalen\n",
    "\n",
    "### De rang toevoegen aan de array met de financialdata\n",
    "\n",
    "Om de resultaat_rang-array te kunnen toevoegen aan de financialdata moeten er twee dingen gebeuren:\n",
    "- beide arrays moeten hetzelfde aantal dimensies hebben (financialdata.shape = (860, 9) en resultaat_rang.shape=(860,))\n",
    "- beide arrays moeten hetzelfde type bevatten (finacialdata bevat float64 en resultaat_rang bevat objecten)"
   ]
  },
  {
   "cell_type": "code",
   "execution_count": 3,
   "metadata": {},
   "outputs": [
    {
     "name": "stdout",
     "output_type": "stream",
     "text": [
      "[[5.104697e+06 5.712240e+04 1.072800e+03 2.376000e+02 2.140000e+01\n",
      "  1.000000e+01 5.000000e+00 3.000000e+00 0.000000e+00          nan]\n",
      " [0.000000e+00 5.639040e+04 1.320600e+03 2.534000e+02 2.540000e+01\n",
      "  1.100000e+01 5.000000e+00 3.000000e+00 0.000000e+00          nan]\n",
      " [0.000000e+00 5.385770e+04 1.571800e+03 2.646000e+02 2.900000e+01\n",
      "  1.070000e+01 5.000000e+00 3.000000e+00 0.000000e+00          nan]\n",
      " [0.000000e+00 3.402430e+04 1.466900e+03 3.270000e+02 3.050000e+01\n",
      "  1.260000e+01 5.000000e+00 3.000000e+00 0.000000e+00          nan]\n",
      " [0.000000e+00 4.705610e+04 2.288800e+03 4.057000e+02 3.200000e+01\n",
      "  1.440000e+01 5.000000e+00 3.000000e+00 0.000000e+00 9.000000e+00]]\n"
     ]
    }
   ],
   "source": [
    "\n",
    "financialdata_rang = np.concatenate([financialdata, resultaat_rang.astype(float).reshape(860,1)], axis=1)\n",
    "print(financialdata_rang[:5])\n",
    "\n"
   ]
  },
  {
   "cell_type": "markdown",
   "metadata": {},
   "source": [
    "## Winst berekenen\n",
    "\n",
    "Een rij in *financialdata_rang* bevat alle info die nodig is om de winst te bepalen:\n",
    "- het winstbedrag voor elke rang\n",
    "- de rang voor die trekking (laatste kolom)\n",
    "\n",
    "In principe zou ik de rang nu kunnen gebruiken als index om de juiste winst te bepalen. Maar het probleem is dat die rang nu een float is geworden (en geen int). Een tweede probleem waar we rekening mee moeten houden is dat het type van de array die we terugkrijgen van np.apply_along_axis() bepaald wordt door het eerste resultaat van *bereken_winst()*. Om ervoor te zorgen dat de *tmp*-array floats bevat en geen integers, moeten we 0.0 (een float teruggeven) wanneer de rang *nan* is. \n",
    "\n",
    "Om de echte winst te berekenen, mag ik ook de uitgaven niet vergeten: voor elke trekking (860 op dit moment) heb ik 1,25 EUR uitgegeven."
   ]
  },
  {
   "cell_type": "code",
   "execution_count": 4,
   "metadata": {},
   "outputs": [
    {
     "name": "stdout",
     "output_type": "stream",
     "text": [
      "In totaal heb ik 482.15 EUR gewonnen.\n",
      "Het verlies na al die jaren Lotto spelen is -592.85 EUR.\n",
      "\n",
      "\"Op de Lotto spelen kan uw portemonnee schaden.\"\n"
     ]
    }
   ],
   "source": [
    "def bereken_winst(rij):\n",
    "    if np.isnan(rij[-1]): return 0.0\n",
    "    index = int(rij[-1])\n",
    "    return rij[index-1]\n",
    "\n",
    "tmp = np.apply_along_axis(bereken_winst,1, financialdata_rang)\n",
    "winst = np.sum(tmp)\n",
    "print(\"In totaal heb ik\", winst, \"EUR gewonnen.\")\n",
    "\n",
    "uitgegeven = len(financialdata_rang) * 1.25\n",
    "\n",
    "winst = winst - uitgegeven\n",
    "\n",
    "if winst < 0:\n",
    "    print(\"Het verlies na al die jaren Lotto spelen is\",winst, \"EUR.\")\n",
    "    print('\\n\"Op de Lotto spelen kan uw portemonnee schaden.\"')\n",
    "else:\n",
    "    print(\"Er zit een fout in de berekening.\")"
   ]
  }
 ],
 "metadata": {
  "kernelspec": {
   "display_name": "Python 3",
   "language": "python",
   "name": "python3"
  },
  "language_info": {
   "codemirror_mode": {
    "name": "ipython",
    "version": 3
   },
   "file_extension": ".py",
   "mimetype": "text/x-python",
   "name": "python",
   "nbconvert_exporter": "python",
   "pygments_lexer": "ipython3",
   "version": "3.12.2"
  }
 },
 "nbformat": 4,
 "nbformat_minor": 2
}
